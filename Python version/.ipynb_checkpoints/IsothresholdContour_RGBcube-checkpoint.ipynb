{
 "cells": [
  {
   "cell_type": "code",
   "execution_count": 29,
   "id": "58234474",
   "metadata": {},
   "outputs": [],
   "source": [
    "import sys\n",
    "from scipy.io import loadmat\n",
    "import os\n",
    "import numpy as np\n",
    "\n",
    "path_str = \"/Users/fangfang/Documents/MATLAB/projects/ColorEllipsoids/FilesFromPsychtoolbox\"\n",
    "os.chdir(path_str)"
   ]
  },
  {
   "cell_type": "code",
   "execution_count": 34,
   "id": "9e051aa5",
   "metadata": {},
   "outputs": [
    {
     "name": "stdout",
     "output_type": "stream",
     "text": [
      "(3, 3)\n"
     ]
    }
   ],
   "source": [
    "#load data\n",
    "T_cones_mat = loadmat('T_cones.mat')\n",
    "T_cones = T_cones_mat['T_cones'] #size: (3, 61)\n",
    "\n",
    "B_monitor_mat = loadmat('B_monitor.mat')\n",
    "B_monitor = B_monitor_mat['B_monitor'] #size: (61, 3)\n",
    "\n",
    "M_LMSToXYZ_mat = loadmat('M_LMSToXYZ.mat')\n",
    "M_LMSToXYZ = M_LMSToXYZ_mat['M_LMSToXYZ'] #size: (3, 3)"
   ]
  },
  {
   "cell_type": "code",
   "execution_count": null,
   "id": "8c43a219",
   "metadata": {},
   "outputs": [],
   "source": []
  }
 ],
 "metadata": {
  "kernelspec": {
   "display_name": "Python 3 (ipykernel)",
   "language": "python",
   "name": "python3"
  },
  "language_info": {
   "codemirror_mode": {
    "name": "ipython",
    "version": 3
   },
   "file_extension": ".py",
   "mimetype": "text/x-python",
   "name": "python",
   "nbconvert_exporter": "python",
   "pygments_lexer": "ipython3",
   "version": "3.11.5"
  }
 },
 "nbformat": 4,
 "nbformat_minor": 5
}
