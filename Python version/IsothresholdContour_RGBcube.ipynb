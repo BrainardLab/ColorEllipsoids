{
 "cells": [
  {
   "cell_type": "code",
   "execution_count": 29,
   "id": "6ad47ce7",
   "metadata": {},
   "outputs": [],
   "source": [
    "import sys\n",
    "from scipy.io import loadmat\n",
    "import os\n",
    "import numpy as np\n",
    "\n",
    "path_str = \"/Users/fangfang/Documents/MATLAB/projects/ColorEllipsoids/FilesFromPsychtoolbox\"\n",
    "os.chdir(path_str)"
   ]
  },
  {
   "cell_type": "code",
   "execution_count": 79,
   "id": "85c68258",
   "metadata": {},
   "outputs": [],
   "source": [
    "def get_gridPts(X, Y, val_fixed_dim, fixed_dim = list(range(3))):\n",
    "\"\"\"\n",
    "GET_GRIDPTS Generates grid points for RGB values with one dimension fixed.\n",
    "\n",
    "This function returns a cell array of grid points for RGB combinations\n",
    "when one of the R, G, or B dimensions is fixed to a specific value. The\n",
    "grid points are generated based on the input ranges for the two varying\n",
    "dimensions.\n",
    "\n",
    "Parameters:\n",
    "X - A vector of values for the first varying dimension.\n",
    "Y - A vector of values for the second varying dimension.\n",
    "fixed_dim - An array of indices (1 for R, 2 for G, 3 for B) indicating \n",
    "            which dimension(s) to fix. Can handle multiple dimensions.\n",
    "val_fixed_dim - An array of values corresponding to each fixed dimension\n",
    "                specified in `fixed_dim`. Each value in `val_fixed_dim`\n",
    "                is used to fix the value of the corresponding dimension.\n",
    "\n",
    "Returns:\n",
    "grid_pts - A cell array where each cell contains a 3D matrix of grid \n",
    "           points. Each matrix corresponds to a set of RGB values where \n",
    "           one dimension is fixed. The size of each matrix is determined \n",
    "           by the lengths of X and Y, with the third dimension representing\n",
    "           the RGB channels.\n",
    "\"\"\"\n",
    "    #Initialize a cell array to hold the grid points for each fixed dimension.\n",
    "    grid_pts = [] \n",
    "    #Loop through each fixed dimension specified.\n",
    "    for i in range(len(fixed_dim)):\n",
    "        #Determine the dimensions that will vary.\n",
    "        varying_dim = list(set(range(3)) - set([fixed_dim[i]]))\n",
    "        #Initialize a cell array to hold the current set of grid points.\n",
    "        grid_pts_i = np.zeros((3, X.shape[0], X.shape[1]))\n",
    "        #Set the fixed dimension to its specified value across all grid points.\n",
    "        grid_pts_i[fixed_dim[i],:,:] = val_fixed_dim[i] * np.ones_like(X)\n",
    "        #Assign the input ranges to the varying dimensions.\n",
    "        grid_pts_i[varying_dim[0],:,:] = X\n",
    "        grid_pts_i[varying_dim[1],:,:] = Y\n",
    "        #Concatenate the individual dimension arrays into a 3D matrix and\n",
    "        #store it in the output cell array.\n",
    "        grid_pts.append(grid_pts_i)\n",
    "        \n",
    "    return grid_pts\n",
    "\n",
    "def "
   ]
  },
  {
   "cell_type": "code",
   "execution_count": 38,
   "id": "ab6dd5b4",
   "metadata": {},
   "outputs": [],
   "source": [
    "#load data\n",
    "param = {}\n",
    "T_cones_mat = loadmat('T_cones.mat')\n",
    "param['T_cones'] = T_cones_mat['T_cones'] #size: (3, 61)\n",
    "\n",
    "B_monitor_mat = loadmat('B_monitor.mat')\n",
    "param['B_monitor'] = B_monitor_mat['B_monitor'] #size: (61, 3)\n",
    "\n",
    "M_LMSToXYZ_mat = loadmat('M_LMSToXYZ.mat')\n",
    "param['M_LMSToXYZ'] = M_LMSToXYZ_mat['M_LMSToXYZ'] #size: (3, 3)"
   ]
  },
  {
   "cell_type": "code",
   "execution_count": 80,
   "id": "9fcb8542",
   "metadata": {},
   "outputs": [],
   "source": [
    "#First create a cube and select the RG, the RB and the GB planes\n",
    "param['nGridPts'] = 100\n",
    "param['grid'] = np.linspace(0,1,param['nGridPts'])\n",
    "param['x_grid'], param['y_grid'] = np.meshgrid(param['grid'], param['grid'])\n",
    "\n",
    "#number of selected planes\n",
    "param['nPlanes'] = 3\n",
    "\n",
    "#for RG / RB / GB plane, we fix the B / G / R value to be one of the following\n",
    "stim = {}\n",
    "stim['fixed_RGBvec'] = 0.5\n",
    "\n",
    "#get the grid points for those three planes with one dimension having a specific fixed value\n",
    "stim['plane_points'] = get_gridPts(param['x_grid'],\\\n",
    "                                   param['y_grid'],\\\n",
    "                                   np.full(3, stim['fixed_RGBvec']))\n",
    "        "
   ]
  },
  {
   "cell_type": "code",
   "execution_count": 83,
   "id": "bdc7d559",
   "metadata": {},
   "outputs": [],
   "source": [
    "#set a grid for the reference stimulus\n",
    "#pick 5 x 5 reference points \n",
    "stim['nGridPts_ref'] = 5\n",
    "stim['grid_ref'] = np.linspace(0.2,1,stim['nGridPts_ref'])\n",
    "\n",
    "stim['x_grid_ref'], stim['y_grid_ref'] = np.meshgrid(stim['grid_ref'],stim['grid_ref'])\n",
    "\n",
    "#get the grid points for the reference stimuli of each plane\n",
    "stim['ref_points'] = get_gridPts(stim['x_grid_ref'],\\\n",
    "                                 stim['y_grid_ref'],\\\n",
    "                                 np.full(3, stim['fixed_RGBvec']))"
   ]
  },
  {
   "cell_type": "code",
   "execution_count": null,
   "id": "e76249a5",
   "metadata": {},
   "outputs": [],
   "source": [
    "#visualize the color planes"
   ]
  },
  {
   "cell_type": "code",
   "execution_count": null,
   "id": "55165b0c",
   "metadata": {},
   "outputs": [],
   "source": []
  }
 ],
 "metadata": {
  "kernelspec": {
   "display_name": "Python 3 (ipykernel)",
   "language": "python",
   "name": "python3"
  },
  "language_info": {
   "codemirror_mode": {
    "name": "ipython",
    "version": 3
   },
   "file_extension": ".py",
   "mimetype": "text/x-python",
   "name": "python",
   "nbconvert_exporter": "python",
   "pygments_lexer": "ipython3",
   "version": "3.11.5"
  }
 },
 "nbformat": 4,
 "nbformat_minor": 5
}
